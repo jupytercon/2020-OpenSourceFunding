{
 "cells": [
  {
   "cell_type": "markdown",
   "metadata": {},
   "source": [
    "# Open Source Funding: Open funding models and strategies for open research and communities"
   ]
  },
  {
   "cell_type": "markdown",
   "metadata": {},
   "source": [
    "## Introduction"
   ]
  },
  {
   "cell_type": "markdown",
   "metadata": {},
   "source": [
    "This is part of the tutorial on Open Source Fundamentals, originally produced as part of JupyterCon2020."
   ]
  },
  {
   "cell_type": "markdown",
   "metadata": {},
   "source": [
    "This topic consists of three modules:\n",
    "  1. The Economics of Open Source\n",
    "  2. How to Get Paid for Open Source\n",
    "  3. Fiscal Sponsorship, Foundations and other Funding Mechanisms"
   ]
  },
  {
   "cell_type": "markdown",
   "metadata": {},
   "source": [
    "## Learning Outcomes\n",
    "\n",
    "At the end of this topic, you should be able to:\n",
    "  - understand the basics of open source economics\n",
    "  - explore different mechanisms for funding open source projects\n",
    "  - learn how to identify the most suitable funding mechanisms for their own projects"
   ]
  },
  {
   "cell_type": "markdown",
   "metadata": {},
   "source": [
    "### Instructor details\n",
    "Name: Neil Chue Hong\n",
    " - Title: Director, Software Sustainability Institute & Senior Research Fellow, EPCC\n",
    " - Organization: The University of Edinburgh, Edinburgh, UK\n"
   ]
  }
 ],
 "metadata": {
  "kernelspec": {
   "display_name": "Python 3",
   "language": "python",
   "name": "python3"
  },
  "language_info": {
   "codemirror_mode": {
    "name": "ipython",
    "version": 3
   },
   "file_extension": ".py",
   "mimetype": "text/x-python",
   "name": "python",
   "nbconvert_exporter": "python",
   "pygments_lexer": "ipython3",
   "version": "3.7.6"
  }
 },
 "nbformat": 4,
 "nbformat_minor": 4
}
